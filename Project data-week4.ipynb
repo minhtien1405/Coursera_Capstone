{
 "cells": [
  {
   "cell_type": "markdown",
   "metadata": {},
   "source": [
    "# Capstone Project\n",
    "The Battle of Neighborhoods (Week 1)"
   ]
  },
  {
   "cell_type": "markdown",
   "metadata": {},
   "source": [
    "#### Created by Tien Hoang\n",
    "#### Powered by Google and Foursquare\n",
    "<br>"
   ]
  },
  {
   "cell_type": "markdown",
   "metadata": {},
   "source": [
    "This project is about findding the good location to open the coffee or milk tea shop in the middle of the tourist city, Budapest. This project can be a good base to be upgrade latter, for example, finding locations to build a coffee chain."
   ]
  },
  {
   "cell_type": "markdown",
   "metadata": {},
   "source": [
    "## 1. Introduction: Business Problem"
   ]
  },
  {
   "cell_type": "markdown",
   "metadata": {},
   "source": [
    "I am a student who currently study in Hungary. And after studying, I want to start-up my own business. As a milk tea lover, I do love to run my own milk tea shop located in **Budapest**. And with this project, I will try to find the optimal location for the **coffee shop** in this tourist city.\n",
    "\n",
    "The target is to find a best location which **attract a lot of tourist** and **not already crowded with coffee shops**. We also prefer to locate the shop near the city center as possible in order to serve the Asian tourist, for example Chinese, Vietnamese because of this is their favorite drink. Then latter on, I will try to broaden this milk tea chain around Budapest.\n",
    "\n",
    "Thanks for the helps of data science, I will find the good place for our milk tea shop."
   ]
  },
  {
   "cell_type": "markdown",
   "metadata": {},
   "source": [
    "## 2. Data"
   ]
  },
  {
   "cell_type": "markdown",
   "metadata": {},
   "source": [
    "To find out the best location in Budapest, I might need to access to some data. My target is too make this project can be reuse later, so I will use easy access data like **Wikipedia** and **Foursquare location search**\n",
    "\n",
    "\n",
    "Based on the problem, the direct factors can be:\n",
    "* number of existing coffee shop in the neighborhood (since there are just a few milk tea store in Budapest, the direct competitors in this case are coffee shops)\n",
    "* distance of neighborhood from city center and attractive tourist places.\n",
    "\n",
    "The data should be use are:\n",
    "* **Wikipedia** search about Budapest tourist places: 'https://en.m.wikipedia.org/wiki/List_of_tourist_attractions_in_Budapest'\n",
    "* The information of nearby coffee shops from **Foursquare API**\n",
    "* In order to attract the location coordinate, **Google Maps API geocoding** will be used in this project "
   ]
  },
  {
   "cell_type": "markdown",
   "metadata": {},
   "source": [
    "### 2.1. Data collection"
   ]
  },
  {
   "cell_type": "markdown",
   "metadata": {},
   "source": [
    "#### Installing and importing packages and library"
   ]
  },
  {
   "cell_type": "code",
   "execution_count": 39,
   "metadata": {},
   "outputs": [],
   "source": [
    "from bs4 import BeautifulSoup\n",
    "import pandas as pd\n",
    "import requests"
   ]
  },
  {
   "cell_type": "code",
   "execution_count": 18,
   "metadata": {},
   "outputs": [],
   "source": [
    "url = 'https://en.m.wikipedia.org/wiki/List_of_tourist_attractions_in_Budapest'\n",
    "source = requests.get(url).text\n",
    "data = BeautifulSoup(source,'lxml')"
   ]
  },
  {
   "cell_type": "code",
   "execution_count": 4,
   "metadata": {},
   "outputs": [
    {
     "data": {
      "text/html": [
       "<div>\n",
       "<style scoped>\n",
       "    .dataframe tbody tr th:only-of-type {\n",
       "        vertical-align: middle;\n",
       "    }\n",
       "\n",
       "    .dataframe tbody tr th {\n",
       "        vertical-align: top;\n",
       "    }\n",
       "\n",
       "    .dataframe thead th {\n",
       "        text-align: right;\n",
       "    }\n",
       "</style>\n",
       "<table border=\"1\" class=\"dataframe\">\n",
       "  <thead>\n",
       "    <tr style=\"text-align: right;\">\n",
       "      <th></th>\n",
       "      <th>Name</th>\n",
       "    </tr>\n",
       "  </thead>\n",
       "  <tbody>\n",
       "  </tbody>\n",
       "</table>\n",
       "</div>"
      ],
      "text/plain": [
       "Empty DataFrame\n",
       "Columns: [Name]\n",
       "Index: []"
      ]
     },
     "execution_count": 4,
     "metadata": {},
     "output_type": "execute_result"
    }
   ],
   "source": [
    "# define the dataframe columns\n",
    "column_names = ['Name'] \n",
    "\n",
    "# instantiate the dataframe\n",
    "budapest = pd.DataFrame(columns=column_names)\n",
    "budapest"
   ]
  },
  {
   "cell_type": "markdown",
   "metadata": {},
   "source": [
    "Extract name of tourist location from the wikipedia page"
   ]
  },
  {
   "cell_type": "code",
   "execution_count": 162,
   "metadata": {},
   "outputs": [
    {
     "data": {
      "text/html": [
       "<div>\n",
       "<style scoped>\n",
       "    .dataframe tbody tr th:only-of-type {\n",
       "        vertical-align: middle;\n",
       "    }\n",
       "\n",
       "    .dataframe tbody tr th {\n",
       "        vertical-align: top;\n",
       "    }\n",
       "\n",
       "    .dataframe thead th {\n",
       "        text-align: right;\n",
       "    }\n",
       "</style>\n",
       "<table border=\"1\" class=\"dataframe\">\n",
       "  <thead>\n",
       "    <tr style=\"text-align: right;\">\n",
       "      <th></th>\n",
       "      <th>Name</th>\n",
       "    </tr>\n",
       "  </thead>\n",
       "  <tbody>\n",
       "    <tr>\n",
       "      <th>0</th>\n",
       "      <td>Parliament</td>\n",
       "    </tr>\n",
       "    <tr>\n",
       "      <th>1</th>\n",
       "      <td>St. Stephen's Basilica</td>\n",
       "    </tr>\n",
       "    <tr>\n",
       "      <th>2</th>\n",
       "      <td>Hungarian National Museum</td>\n",
       "    </tr>\n",
       "    <tr>\n",
       "      <th>3</th>\n",
       "      <td>National Theatre</td>\n",
       "    </tr>\n",
       "    <tr>\n",
       "      <th>4</th>\n",
       "      <td>Buda Castle</td>\n",
       "    </tr>\n",
       "  </tbody>\n",
       "</table>\n",
       "</div>"
      ],
      "text/plain": [
       "                        Name\n",
       "0                 Parliament\n",
       "1     St. Stephen's Basilica\n",
       "2  Hungarian National Museum\n",
       "3           National Theatre\n",
       "4                Buda Castle"
      ]
     },
     "execution_count": 162,
     "metadata": {},
     "output_type": "execute_result"
    }
   ],
   "source": [
    "#find tourist location in Budapest\n",
    "name=[]\n",
    "content = data.findAll(\"tr\", {\"bgcolor\" : \"#DDEEFF\"})\n",
    "for tr in content:\n",
    "    name= tr.find('b')\n",
    "    for b in name:\n",
    "        location = name.find('a')\n",
    "        if location != None:\n",
    "            budapest = budapest.append({'Name':location.get_text()},ignore_index=True)\n",
    "df=budapest\n",
    "budapest[0:5]"
   ]
  },
  {
   "cell_type": "markdown",
   "metadata": {},
   "source": [
    "Finding the latitude and longitude for these location with Google API"
   ]
  },
  {
   "cell_type": "code",
   "execution_count": 163,
   "metadata": {},
   "outputs": [],
   "source": [
    "API=''"
   ]
  },
  {
   "cell_type": "code",
   "execution_count": 164,
   "metadata": {},
   "outputs": [
    {
     "data": {
      "text/html": [
       "<div>\n",
       "<style scoped>\n",
       "    .dataframe tbody tr th:only-of-type {\n",
       "        vertical-align: middle;\n",
       "    }\n",
       "\n",
       "    .dataframe tbody tr th {\n",
       "        vertical-align: top;\n",
       "    }\n",
       "\n",
       "    .dataframe thead th {\n",
       "        text-align: right;\n",
       "    }\n",
       "</style>\n",
       "<table border=\"1\" class=\"dataframe\">\n",
       "  <thead>\n",
       "    <tr style=\"text-align: right;\">\n",
       "      <th></th>\n",
       "      <th>Name</th>\n",
       "      <th>Latitude</th>\n",
       "      <th>Longitude</th>\n",
       "    </tr>\n",
       "  </thead>\n",
       "  <tbody>\n",
       "    <tr>\n",
       "      <th>0</th>\n",
       "      <td>Parliament</td>\n",
       "      <td>47.507121</td>\n",
       "      <td>19.045669</td>\n",
       "    </tr>\n",
       "    <tr>\n",
       "      <th>1</th>\n",
       "      <td>St. Stephen's Basilica</td>\n",
       "      <td>47.500890</td>\n",
       "      <td>19.053989</td>\n",
       "    </tr>\n",
       "    <tr>\n",
       "      <th>2</th>\n",
       "      <td>Hungarian National Museum</td>\n",
       "      <td>47.491198</td>\n",
       "      <td>19.062476</td>\n",
       "    </tr>\n",
       "    <tr>\n",
       "      <th>3</th>\n",
       "      <td>National Theatre</td>\n",
       "      <td>47.470798</td>\n",
       "      <td>19.071066</td>\n",
       "    </tr>\n",
       "    <tr>\n",
       "      <th>4</th>\n",
       "      <td>Buda Castle</td>\n",
       "      <td>47.496205</td>\n",
       "      <td>19.039567</td>\n",
       "    </tr>\n",
       "  </tbody>\n",
       "</table>\n",
       "</div>"
      ],
      "text/plain": [
       "                        Name   Latitude  Longitude\n",
       "0                 Parliament  47.507121  19.045669\n",
       "1     St. Stephen's Basilica  47.500890  19.053989\n",
       "2  Hungarian National Museum  47.491198  19.062476\n",
       "3           National Theatre  47.470798  19.071066\n",
       "4                Buda Castle  47.496205  19.039567"
      ]
     },
     "execution_count": 164,
     "metadata": {},
     "output_type": "execute_result"
    }
   ],
   "source": [
    "latitude=[] #List to collect the latitudes\n",
    "longitude=[] #List to collect the longitudes\n",
    "\n",
    "for i in df['Name']: #Iterating through Postalcodes to collect the locations data\n",
    "    try:\n",
    "        j='budapest,'+i\n",
    "        url =\"https://maps.googleapis.com/maps/api/geocode/json?key={}&address={}\".format(API,j)\n",
    "        response = requests.get(url).json() # get response\n",
    "        geographical_data = response['results'][0]['geometry']['location'] # get geographical coordinates\n",
    "        latitude.append(geographical_data['lat'])\n",
    "        longitude.append(geographical_data['lng'])\n",
    "    except:\n",
    "        pass\n",
    "df['Latitude']=latitude #Adding a column in the main dataframe for Latitude  \n",
    "\n",
    "df['Longitude']=longitude #Adding a column in the main dataframe for Longitude \n",
    "df.head()"
   ]
  },
  {
   "cell_type": "code",
   "execution_count": null,
   "metadata": {},
   "outputs": [],
   "source": []
  }
 ],
 "metadata": {
  "kernelspec": {
   "display_name": "Python 3",
   "language": "python",
   "name": "python3"
  },
  "language_info": {
   "codemirror_mode": {
    "name": "ipython",
    "version": 3
   },
   "file_extension": ".py",
   "mimetype": "text/x-python",
   "name": "python",
   "nbconvert_exporter": "python",
   "pygments_lexer": "ipython3",
   "version": "3.6.8"
  }
 },
 "nbformat": 4,
 "nbformat_minor": 2
}
