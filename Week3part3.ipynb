{
 "cells": [
  {
   "cell_type": "markdown",
   "metadata": {},
   "source": [
    "<h1> Assignment of week 3 </h1>"
   ]
  },
  {
   "cell_type": "markdown",
   "metadata": {},
   "source": [
    "Explore and cluster the neighborhoods in Toronto."
   ]
  },
  {
   "cell_type": "markdown",
   "metadata": {},
   "source": [
    "Created by Tien Hoang"
   ]
  },
  {
   "cell_type": "code",
   "execution_count": 55,
   "metadata": {},
   "outputs": [],
   "source": [
    "from bs4 import BeautifulSoup\n",
    "import pandas as pd\n",
    "import requests"
   ]
  },
  {
   "cell_type": "code",
   "execution_count": 2,
   "metadata": {},
   "outputs": [],
   "source": [
    "url = 'https://en.wikipedia.org/wiki/List_of_postal_codes_of_Canada:_M'\n",
    "source = requests.get(url).text\n",
    "data = BeautifulSoup(source,'lxml')"
   ]
  },
  {
   "cell_type": "code",
   "execution_count": 35,
   "metadata": {},
   "outputs": [
    {
     "data": {
      "text/html": [
       "<div>\n",
       "<style scoped>\n",
       "    .dataframe tbody tr th:only-of-type {\n",
       "        vertical-align: middle;\n",
       "    }\n",
       "\n",
       "    .dataframe tbody tr th {\n",
       "        vertical-align: top;\n",
       "    }\n",
       "\n",
       "    .dataframe thead th {\n",
       "        text-align: right;\n",
       "    }\n",
       "</style>\n",
       "<table border=\"1\" class=\"dataframe\">\n",
       "  <thead>\n",
       "    <tr style=\"text-align: right;\">\n",
       "      <th></th>\n",
       "      <th>Postalcode</th>\n",
       "      <th>Borough</th>\n",
       "      <th>Neighborhood</th>\n",
       "    </tr>\n",
       "  </thead>\n",
       "  <tbody>\n",
       "  </tbody>\n",
       "</table>\n",
       "</div>"
      ],
      "text/plain": [
       "Empty DataFrame\n",
       "Columns: [Postalcode, Borough, Neighborhood]\n",
       "Index: []"
      ]
     },
     "execution_count": 35,
     "metadata": {},
     "output_type": "execute_result"
    }
   ],
   "source": [
    "# define the dataframe columns\n",
    "column_names = ['Postalcode','Borough', 'Neighborhood'] \n",
    "\n",
    "# instantiate the dataframe\n",
    "toronto = pd.DataFrame(columns=column_names)\n",
    "toronto"
   ]
  },
  {
   "cell_type": "code",
   "execution_count": 36,
   "metadata": {},
   "outputs": [
    {
     "data": {
      "text/html": [
       "<div>\n",
       "<style scoped>\n",
       "    .dataframe tbody tr th:only-of-type {\n",
       "        vertical-align: middle;\n",
       "    }\n",
       "\n",
       "    .dataframe tbody tr th {\n",
       "        vertical-align: top;\n",
       "    }\n",
       "\n",
       "    .dataframe thead th {\n",
       "        text-align: right;\n",
       "    }\n",
       "</style>\n",
       "<table border=\"1\" class=\"dataframe\">\n",
       "  <thead>\n",
       "    <tr style=\"text-align: right;\">\n",
       "      <th></th>\n",
       "      <th>Postalcode</th>\n",
       "      <th>Borough</th>\n",
       "      <th>Neighborhood</th>\n",
       "    </tr>\n",
       "  </thead>\n",
       "  <tbody>\n",
       "    <tr>\n",
       "      <th>0</th>\n",
       "      <td>0</td>\n",
       "      <td>0</td>\n",
       "      <td>0</td>\n",
       "    </tr>\n",
       "    <tr>\n",
       "      <th>1</th>\n",
       "      <td>M1A</td>\n",
       "      <td>Not assigned</td>\n",
       "      <td>Not assigned</td>\n",
       "    </tr>\n",
       "    <tr>\n",
       "      <th>2</th>\n",
       "      <td>M2A</td>\n",
       "      <td>Not assigned</td>\n",
       "      <td>Not assigned</td>\n",
       "    </tr>\n",
       "    <tr>\n",
       "      <th>3</th>\n",
       "      <td>M3A</td>\n",
       "      <td>North York</td>\n",
       "      <td>Parkwoods</td>\n",
       "    </tr>\n",
       "    <tr>\n",
       "      <th>4</th>\n",
       "      <td>M4A</td>\n",
       "      <td>North York</td>\n",
       "      <td>Victoria Village</td>\n",
       "    </tr>\n",
       "  </tbody>\n",
       "</table>\n",
       "</div>"
      ],
      "text/plain": [
       "  Postalcode       Borough      Neighborhood\n",
       "0          0             0                 0\n",
       "1        M1A  Not assigned      Not assigned\n",
       "2        M2A  Not assigned      Not assigned\n",
       "3        M3A    North York         Parkwoods\n",
       "4        M4A    North York  Victoria Village"
      ]
     },
     "execution_count": 36,
     "metadata": {},
     "output_type": "execute_result"
    }
   ],
   "source": [
    "#find posta code, borough, neighborhood\n",
    "content = data.find('div',class_='mw-parser-output')\n",
    "table = content.table.tbody\n",
    "postcode = 0\n",
    "borough = 0\n",
    "neighborhood = 0\n",
    "\n",
    "for tr in table.find_all('tr'):\n",
    "    i=0\n",
    "    for td in tr.find_all('td'):\n",
    "        if i == 0:\n",
    "            postcode=td.text\n",
    "            i +=1\n",
    "        elif i == 1:\n",
    "            borough = td.text\n",
    "            i +=1\n",
    "        elif i == 2:\n",
    "            neighborhood = td.text.strip('\\n').replace(']','')\n",
    "    toronto = toronto.append({'Postalcode':postcode,'Borough':borough,'Neighborhood': neighborhood}, ignore_index=True)\n",
    "toronto[0:5]"
   ]
  },
  {
   "cell_type": "code",
   "execution_count": 47,
   "metadata": {},
   "outputs": [
    {
     "data": {
      "text/html": [
       "<div>\n",
       "<style scoped>\n",
       "    .dataframe tbody tr th:only-of-type {\n",
       "        vertical-align: middle;\n",
       "    }\n",
       "\n",
       "    .dataframe tbody tr th {\n",
       "        vertical-align: top;\n",
       "    }\n",
       "\n",
       "    .dataframe thead th {\n",
       "        text-align: right;\n",
       "    }\n",
       "</style>\n",
       "<table border=\"1\" class=\"dataframe\">\n",
       "  <thead>\n",
       "    <tr style=\"text-align: right;\">\n",
       "      <th></th>\n",
       "      <th>Postalcode</th>\n",
       "      <th>Borough</th>\n",
       "      <th>Neighborhood</th>\n",
       "    </tr>\n",
       "  </thead>\n",
       "  <tbody>\n",
       "    <tr>\n",
       "      <th>0</th>\n",
       "      <td>M1B</td>\n",
       "      <td>Scarborough</td>\n",
       "      <td>Rouge, Malvern</td>\n",
       "    </tr>\n",
       "    <tr>\n",
       "      <th>1</th>\n",
       "      <td>M1C</td>\n",
       "      <td>Scarborough</td>\n",
       "      <td>Highland Creek, Rouge Hill, Port Union</td>\n",
       "    </tr>\n",
       "    <tr>\n",
       "      <th>2</th>\n",
       "      <td>M1E</td>\n",
       "      <td>Scarborough</td>\n",
       "      <td>Guildwood, Morningside, West Hill</td>\n",
       "    </tr>\n",
       "    <tr>\n",
       "      <th>3</th>\n",
       "      <td>M1G</td>\n",
       "      <td>Scarborough</td>\n",
       "      <td>Woburn</td>\n",
       "    </tr>\n",
       "    <tr>\n",
       "      <th>4</th>\n",
       "      <td>M1H</td>\n",
       "      <td>Scarborough</td>\n",
       "      <td>Cedarbrae</td>\n",
       "    </tr>\n",
       "  </tbody>\n",
       "</table>\n",
       "</div>"
      ],
      "text/plain": [
       "  Postalcode      Borough                            Neighborhood\n",
       "0        M1B  Scarborough                          Rouge, Malvern\n",
       "1        M1C  Scarborough  Highland Creek, Rouge Hill, Port Union\n",
       "2        M1E  Scarborough       Guildwood, Morningside, West Hill\n",
       "3        M1G  Scarborough                                  Woburn\n",
       "4        M1H  Scarborough                               Cedarbrae"
      ]
     },
     "execution_count": 47,
     "metadata": {},
     "output_type": "execute_result"
    }
   ],
   "source": [
    "#clean the dataframe\n",
    "toronto = toronto[toronto.Borough != 'Not assigned']\n",
    "toronto = toronto[toronto.Borough != 0]\n",
    "toronto.reset_index(drop=True, inplace = True)\n",
    "\n",
    "for i in range (0,toronto.shape[0]):\n",
    "    if toronto.iloc[i][2] == 'Not assigned':\n",
    "        toronto.iloc[i][2] = toronto.iloc[i][1]\n",
    "df = toronto.groupby(['Postalcode','Borough'])['Neighborhood'].apply(', '.join).reset_index()\n",
    "\n",
    "#cleaning na, not assigned\n",
    "\n",
    "df = df.dropna()\n",
    "na = 'Not assigned'\n",
    "df = df[(df.Postalcode != na ) & (df.Borough != na) & (df.Neighborhood != na)]\n",
    "df.head()"
   ]
  },
  {
   "cell_type": "code",
   "execution_count": 45,
   "metadata": {},
   "outputs": [
    {
     "name": "stdout",
     "output_type": "stream",
     "text": [
      "(103, 3)\n"
     ]
    }
   ],
   "source": [
    "print(df.shape)"
   ]
  },
  {
   "cell_type": "code",
   "execution_count": 56,
   "metadata": {},
   "outputs": [],
   "source": [
    "API=''"
   ]
  },
  {
   "cell_type": "code",
   "execution_count": 57,
   "metadata": {},
   "outputs": [
    {
     "data": {
      "text/html": [
       "<div>\n",
       "<style scoped>\n",
       "    .dataframe tbody tr th:only-of-type {\n",
       "        vertical-align: middle;\n",
       "    }\n",
       "\n",
       "    .dataframe tbody tr th {\n",
       "        vertical-align: top;\n",
       "    }\n",
       "\n",
       "    .dataframe thead th {\n",
       "        text-align: right;\n",
       "    }\n",
       "</style>\n",
       "<table border=\"1\" class=\"dataframe\">\n",
       "  <thead>\n",
       "    <tr style=\"text-align: right;\">\n",
       "      <th></th>\n",
       "      <th>Postalcode</th>\n",
       "      <th>Borough</th>\n",
       "      <th>Neighborhood</th>\n",
       "      <th>Latitude</th>\n",
       "      <th>Longitude</th>\n",
       "    </tr>\n",
       "  </thead>\n",
       "  <tbody>\n",
       "    <tr>\n",
       "      <th>0</th>\n",
       "      <td>M1B</td>\n",
       "      <td>Scarborough</td>\n",
       "      <td>Rouge, Malvern</td>\n",
       "      <td>43.806686</td>\n",
       "      <td>-79.194353</td>\n",
       "    </tr>\n",
       "    <tr>\n",
       "      <th>1</th>\n",
       "      <td>M1C</td>\n",
       "      <td>Scarborough</td>\n",
       "      <td>Highland Creek, Rouge Hill, Port Union</td>\n",
       "      <td>43.784535</td>\n",
       "      <td>-79.160497</td>\n",
       "    </tr>\n",
       "    <tr>\n",
       "      <th>2</th>\n",
       "      <td>M1E</td>\n",
       "      <td>Scarborough</td>\n",
       "      <td>Guildwood, Morningside, West Hill</td>\n",
       "      <td>43.763573</td>\n",
       "      <td>-79.188711</td>\n",
       "    </tr>\n",
       "    <tr>\n",
       "      <th>3</th>\n",
       "      <td>M1G</td>\n",
       "      <td>Scarborough</td>\n",
       "      <td>Woburn</td>\n",
       "      <td>43.770992</td>\n",
       "      <td>-79.216917</td>\n",
       "    </tr>\n",
       "    <tr>\n",
       "      <th>4</th>\n",
       "      <td>M1H</td>\n",
       "      <td>Scarborough</td>\n",
       "      <td>Cedarbrae</td>\n",
       "      <td>43.773136</td>\n",
       "      <td>-79.239476</td>\n",
       "    </tr>\n",
       "  </tbody>\n",
       "</table>\n",
       "</div>"
      ],
      "text/plain": [
       "  Postalcode      Borough                            Neighborhood   Latitude  \\\n",
       "0        M1B  Scarborough                          Rouge, Malvern  43.806686   \n",
       "1        M1C  Scarborough  Highland Creek, Rouge Hill, Port Union  43.784535   \n",
       "2        M1E  Scarborough       Guildwood, Morningside, West Hill  43.763573   \n",
       "3        M1G  Scarborough                                  Woburn  43.770992   \n",
       "4        M1H  Scarborough                               Cedarbrae  43.773136   \n",
       "\n",
       "   Longitude  \n",
       "0 -79.194353  \n",
       "1 -79.160497  \n",
       "2 -79.188711  \n",
       "3 -79.216917  \n",
       "4 -79.239476  "
      ]
     },
     "execution_count": 57,
     "metadata": {},
     "output_type": "execute_result"
    }
   ],
   "source": [
    "latitude=[] #List to collect the latitudes\n",
    "longitude=[] #List to collect the longitudes\n",
    "\n",
    "for i in df['Postalcode']: #Iterating through Postalcodes to collect the locations data\n",
    "    try:\n",
    "        j='toronto,'+i\n",
    "        url =\"https://maps.googleapis.com/maps/api/geocode/json?key={}&address={}\".format(API,j)\n",
    "        response = requests.get(url).json() # get response\n",
    "        geographical_data = response['results'][0]['geometry']['location'] # get geographical coordinates\n",
    "        latitude.append(geographical_data['lat'])\n",
    "        longitude.append(geographical_data['lng'])\n",
    "    except:\n",
    "        pass\n",
    "df['Latitude']=latitude #Adding a column in the main dataframe for Latitude  \n",
    "\n",
    "df['Longitude']=longitude #Adding a column in the main dataframe for Longitude \n",
    "df.head()"
   ]
  },
  {
   "cell_type": "markdown",
   "metadata": {},
   "source": [
    "Part 3:"
   ]
  },
  {
   "cell_type": "code",
   "execution_count": 59,
   "metadata": {},
   "outputs": [
    {
     "name": "stdout",
     "output_type": "stream",
     "text": [
      "Collecting package metadata: done\n",
      "Solving environment: done\n",
      "\n",
      "## Package Plan ##\n",
      "\n",
      "  environment location: /home/jupyterlab/conda\n",
      "\n",
      "  added / updated specs:\n",
      "    - geopy\n",
      "\n",
      "\n",
      "The following packages will be downloaded:\n",
      "\n",
      "    package                    |            build\n",
      "    ---------------------------|-----------------\n",
      "    ca-certificates-2019.3.9   |       hecc5488_0         146 KB  conda-forge\n",
      "    certifi-2019.3.9           |           py36_0         149 KB  conda-forge\n",
      "    conda-4.6.9                |           py36_0         896 KB  conda-forge\n",
      "    geographiclib-1.49         |             py_0          32 KB  conda-forge\n",
      "    geopy-1.19.0               |             py_0          53 KB  conda-forge\n",
      "    openssl-1.1.1b             |       h14c3975_1         4.0 MB  conda-forge\n",
      "    ------------------------------------------------------------\n",
      "                                           Total:         5.2 MB\n",
      "\n",
      "The following NEW packages will be INSTALLED:\n",
      "\n",
      "  geographiclib      conda-forge/noarch::geographiclib-1.49-py_0\n",
      "\n",
      "The following packages will be UPDATED:\n",
      "\n",
      "  ca-certificates                     2018.11.29-ha4d7672_0 --> 2019.3.9-hecc5488_0\n",
      "  certifi                              2018.11.29-py36_1000 --> 2019.3.9-py36_0\n",
      "  conda                                        4.6.4-py36_0 --> 4.6.9-py36_0\n",
      "  geopy              conda-forge/linux-64::geopy-1.11.0-py~ --> conda-forge/noarch::geopy-1.19.0-py_0\n",
      "  openssl                              1.1.1a-h14c3975_1000 --> 1.1.1b-h14c3975_1\n",
      "\n",
      "\n",
      "\n",
      "Downloading and Extracting Packages\n",
      "ca-certificates-2019 | 146 KB    | ##################################### | 100% \n",
      "openssl-1.1.1b       | 4.0 MB    | ##################################### | 100% \n",
      "conda-4.6.9          | 896 KB    | ##################################### | 100% \n",
      "geopy-1.19.0         | 53 KB     | ##################################### | 100% \n",
      "certifi-2019.3.9     | 149 KB    | ##################################### | 100% \n",
      "geographiclib-1.49   | 32 KB     | ##################################### | 100% \n",
      "Preparing transaction: done\n",
      "Verifying transaction: done\n",
      "Executing transaction: done\n",
      "Collecting package metadata: done\n",
      "Solving environment: - \n",
      "The environment is inconsistent, please check the package plan carefully\n",
      "The following packages are causing the inconsistency:\n",
      "\n",
      "  - defaults/linux-64::anaconda==5.3.1=py37_0\n",
      "  - defaults/linux-64::astropy==3.0.4=py37h14c3975_0\n",
      "  - defaults/linux-64::bkcharts==0.2=py37_0\n",
      "  - defaults/linux-64::blaze==0.11.3=py37_0\n",
      "  - defaults/linux-64::bokeh==0.13.0=py37_0\n",
      "  - defaults/linux-64::bottleneck==1.2.1=py37h035aef0_1\n",
      "  - defaults/linux-64::dask==0.19.1=py37_0\n",
      "  - defaults/linux-64::datashape==0.5.4=py37_1\n",
      "  - defaults/linux-64::mkl-service==1.1.2=py37h90e4bf4_5\n",
      "  - defaults/linux-64::numba==0.39.0=py37h04863e7_0\n",
      "  - defaults/linux-64::numexpr==2.6.8=py37hd89afb7_0\n",
      "  - defaults/linux-64::odo==0.5.1=py37_0\n",
      "  - defaults/linux-64::pytables==3.4.4=py37ha205bf6_0\n",
      "  - defaults/linux-64::pytest-arraydiff==0.2=py37h39e3cac_0\n",
      "  - defaults/linux-64::pytest-astropy==0.4.0=py37_0\n",
      "  - defaults/linux-64::pytest-doctestplus==0.1.3=py37_0\n",
      "  - defaults/linux-64::pywavelets==1.0.0=py37hdd07704_0\n",
      "  - defaults/linux-64::scikit-image==0.14.0=py37hf484d3e_1\n",
      "done\n",
      "\n",
      "# All requested packages already installed.\n",
      "\n"
     ]
    }
   ],
   "source": [
    "import re\n",
    "\n",
    "import numpy as np # library to handle data in a vectorized manner\n",
    "import pandas as pd # library for data analsysis\n",
    "pd.set_option('display.max_columns', None)\n",
    "pd.set_option('display.max_rows', None)\n",
    "\n",
    "import json # library to handle JSON files\n",
    "\n",
    "!conda install -c conda-forge geopy --yes # uncomment this line if you haven't completed the Foursquare API lab\n",
    "from geopy.geocoders import Nominatim # convert an address into latitude and longitude values\n",
    "\n",
    "import requests # library to handle requests\n",
    "from pandas.io.json import json_normalize # tranform JSON file into a pandas dataframe\n",
    "\n",
    "# Matplotlib and associated plotting modules\n",
    "import matplotlib.cm as cm\n",
    "import matplotlib.colors as colors\n",
    "\n",
    "# import k-means from clustering stage\n",
    "from sklearn.cluster import KMeans\n",
    "\n",
    "!conda install -c conda-forge folium=0.5.0 --yes # uncomment this line if you haven't completed the Foursquare API lab\n",
    "import folium # map rendering library"
   ]
  },
  {
   "cell_type": "code",
   "execution_count": 60,
   "metadata": {},
   "outputs": [
    {
     "name": "stderr",
     "output_type": "stream",
     "text": [
      "/home/jupyterlab/conda/lib/python3.6/site-packages/ipykernel_launcher.py:4: DeprecationWarning: Using Nominatim with the default \"geopy/1.19.0\" `user_agent` is strongly discouraged, as it violates Nominatim's ToS https://operations.osmfoundation.org/policies/nominatim/ and may possibly cause 403 and 429 HTTP errors. Please specify a custom `user_agent` with `Nominatim(user_agent=\"my-application\")` or by overriding the default `user_agent`: `geopy.geocoders.options.default_user_agent = \"my-application\"`. In geopy 2.0 this will become an exception.\n",
      "  after removing the cwd from sys.path.\n"
     ]
    },
    {
     "name": "stdout",
     "output_type": "stream",
     "text": [
      "The geograpical coordinate of Toronto are 43.653963, -79.387207.\n"
     ]
    }
   ],
   "source": [
    "#Testing Toronto\n",
    "address = 'Toronto'\n",
    "\n",
    "geolocator = Nominatim()\n",
    "location = geolocator.geocode(address)\n",
    "latitude = location.latitude\n",
    "longitude = location.longitude\n",
    "print('The geograpical coordinate of Toronto are {}, {}.'.format(latitude, longitude))"
   ]
  },
  {
   "cell_type": "markdown",
   "metadata": {},
   "source": [
    "Create a map of Toronto using latitude and longitude values:"
   ]
  },
  {
   "cell_type": "code",
   "execution_count": 62,
   "metadata": {},
   "outputs": [
    {
     "data": {
      "text/html": [
       "<div style=\"width:100%;\"><div style=\"position:relative;width:100%;height:0;padding-bottom:60%;\"><iframe src=\"data:text/html;charset=utf-8;base64,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\" style=\"position:absolute;width:100%;height:100%;left:0;top:0;border:none !important;\" allowfullscreen webkitallowfullscreen mozallowfullscreen></iframe></div></div>"
      ],
      "text/plain": [
       "<folium.folium.Map at 0x7f358d29beb8>"
      ]
     },
     "execution_count": 62,
     "metadata": {},
     "output_type": "execute_result"
    }
   ],
   "source": [
    "map_toronto = folium.Map(location=[latitude, longitude], zoom_start=10)\n",
    "\n",
    "# add markers to map\n",
    "for lat, lng, borough, neighborhood in zip(df['Latitude'], df['Longitude'], df['Borough'], df['Neighborhood']):\n",
    "    label = '{}, {}'.format(neighborhood, borough)\n",
    "    label = folium.Popup(label, parse_html=True)\n",
    "    folium.CircleMarker(\n",
    "        [lat, lng],\n",
    "        radius=5,\n",
    "        popup=label,\n",
    "        color='blue',\n",
    "        fill=True,\n",
    "        fill_color='#3186cc',\n",
    "        fill_opacity=0.7,\n",
    "        parse_html=False).add_to(map_toronto)  \n",
    "    \n",
    "map_toronto"
   ]
  },
  {
   "cell_type": "markdown",
   "metadata": {},
   "source": [
    "Information about Scarborough"
   ]
  },
  {
   "cell_type": "code",
   "execution_count": 63,
   "metadata": {},
   "outputs": [
    {
     "name": "stderr",
     "output_type": "stream",
     "text": [
      "/home/jupyterlab/conda/lib/python3.6/site-packages/ipykernel_launcher.py:4: DeprecationWarning: Using Nominatim with the default \"geopy/1.19.0\" `user_agent` is strongly discouraged, as it violates Nominatim's ToS https://operations.osmfoundation.org/policies/nominatim/ and may possibly cause 403 and 429 HTTP errors. Please specify a custom `user_agent` with `Nominatim(user_agent=\"my-application\")` or by overriding the default `user_agent`: `geopy.geocoders.options.default_user_agent = \"my-application\"`. In geopy 2.0 this will become an exception.\n",
      "  after removing the cwd from sys.path.\n"
     ]
    },
    {
     "name": "stdout",
     "output_type": "stream",
     "text": [
      "The geograpical coordinate of Scarborough are 43.773077, -79.257774.\n"
     ]
    }
   ],
   "source": [
    "scarborough_data = df[df['Borough'] == 'Scarborough'].reset_index(drop=True)\n",
    "address1 = 'Scarborough,Toronto'\n",
    "\n",
    "geolocator1 = Nominatim()\n",
    "location1 = geolocator1.geocode(address1)\n",
    "latitude1 = location1.latitude\n",
    "longitude1 = location1.longitude\n",
    "print('The geograpical coordinate of Scarborough are {}, {}.'.format(latitude1, longitude1))"
   ]
  },
  {
   "cell_type": "markdown",
   "metadata": {},
   "source": [
    "Draw Scarborough"
   ]
  },
  {
   "cell_type": "code",
   "execution_count": 65,
   "metadata": {},
   "outputs": [
    {
     "data": {
      "text/html": [
       "<div style=\"width:100%;\"><div style=\"position:relative;width:100%;height:0;padding-bottom:60%;\"><iframe src=\"data:text/html;charset=utf-8;base64,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\" style=\"position:absolute;width:100%;height:100%;left:0;top:0;border:none !important;\" allowfullscreen webkitallowfullscreen mozallowfullscreen></iframe></div></div>"
      ],
      "text/plain": [
       "<folium.folium.Map at 0x7f358d0b0240>"
      ]
     },
     "execution_count": 65,
     "metadata": {},
     "output_type": "execute_result"
    }
   ],
   "source": [
    "map_scar = folium.Map(location=[latitude1, longitude1], zoom_start=12)\n",
    "\n",
    "for lat, lng, label in zip(scarborough_data['Latitude'], scarborough_data['Longitude'], scarborough_data['Neighborhood']):\n",
    "    label = folium.Popup(label, parse_html=True)\n",
    "    folium.CircleMarker(\n",
    "        [lat, lng],\n",
    "        radius=5,\n",
    "        popup=label,\n",
    "        color='blue',\n",
    "        fill=True,\n",
    "        fill_color='#3186cc',\n",
    "        fill_opacity=0.7,\n",
    "        parse_html=False).add_to(map_scar)  \n",
    "    \n",
    "map_scar"
   ]
  },
  {
   "cell_type": "markdown",
   "metadata": {},
   "source": [
    "#### Exploring the neighborhood in dataframe."
   ]
  },
  {
   "cell_type": "code",
   "execution_count": 68,
   "metadata": {},
   "outputs": [],
   "source": [
    "CLIENT_ID = '' # your Foursquare ID\n",
    "CLIENT_SECRET = '' # your Foursquare Secret\n",
    "VERSION = '' # Foursquare API version\n"
   ]
  },
  {
   "cell_type": "code",
   "execution_count": 69,
   "metadata": {},
   "outputs": [
    {
     "name": "stdout",
     "output_type": "stream",
     "text": [
      "Latitude and longitude values of Rouge, Malvern are 43.8066863, -79.1943534.\n"
     ]
    }
   ],
   "source": [
    "neighborhood_latitude = scarborough_data.loc[0, 'Latitude'] \n",
    "neighborhood_longitude = scarborough_data.loc[0, 'Longitude'] \n",
    "\n",
    "neighborhood_name = scarborough_data.loc[0, 'Neighborhood']\n",
    "\n",
    "print('Latitude and longitude values of {} are {}, {}.'.format(neighborhood_name, \n",
    "                                                               neighborhood_latitude, \n",
    "                                                               neighborhood_longitude))\n",
    "\n",
    "LIMIT = 100\n",
    "radius = 500\n",
    "url = 'https://api.foursquare.com/v2/venues/explore?client_id={}&client_secret={}&ll={},{}&v={}&radius={}&limit={}'.format(CLIENT_ID, CLIENT_SECRET, latitude1, longitude1, VERSION, radius, LIMIT)"
   ]
  },
  {
   "cell_type": "code",
   "execution_count": 70,
   "metadata": {},
   "outputs": [],
   "source": [
    "#define get_category_type\n",
    "def get_category_type(row):\n",
    "    try:\n",
    "        categories_list = row['categories']\n",
    "    except:\n",
    "        categories_list = row['venue.categories']\n",
    "        \n",
    "    if len(categories_list) == 0:\n",
    "        return None\n",
    "    else:\n",
    "        return categories_list[0]['name']"
   ]
  },
  {
   "cell_type": "markdown",
   "metadata": {},
   "source": [
    "##### Show Category type"
   ]
  },
  {
   "cell_type": "code",
   "execution_count": 71,
   "metadata": {},
   "outputs": [
    {
     "data": {
      "text/html": [
       "<div>\n",
       "<style scoped>\n",
       "    .dataframe tbody tr th:only-of-type {\n",
       "        vertical-align: middle;\n",
       "    }\n",
       "\n",
       "    .dataframe tbody tr th {\n",
       "        vertical-align: top;\n",
       "    }\n",
       "\n",
       "    .dataframe thead th {\n",
       "        text-align: right;\n",
       "    }\n",
       "</style>\n",
       "<table border=\"1\" class=\"dataframe\">\n",
       "  <thead>\n",
       "    <tr style=\"text-align: right;\">\n",
       "      <th></th>\n",
       "      <th>name</th>\n",
       "      <th>categories</th>\n",
       "      <th>lat</th>\n",
       "      <th>lng</th>\n",
       "    </tr>\n",
       "  </thead>\n",
       "  <tbody>\n",
       "    <tr>\n",
       "      <th>0</th>\n",
       "      <td>Disney Store</td>\n",
       "      <td>Toy / Game Store</td>\n",
       "      <td>43.775537</td>\n",
       "      <td>-79.256833</td>\n",
       "    </tr>\n",
       "    <tr>\n",
       "      <th>1</th>\n",
       "      <td>SEPHORA</td>\n",
       "      <td>Cosmetics Shop</td>\n",
       "      <td>43.775017</td>\n",
       "      <td>-79.258109</td>\n",
       "    </tr>\n",
       "    <tr>\n",
       "      <th>2</th>\n",
       "      <td>American Eagle Outfitters</td>\n",
       "      <td>Clothing Store</td>\n",
       "      <td>43.775908</td>\n",
       "      <td>-79.258352</td>\n",
       "    </tr>\n",
       "    <tr>\n",
       "      <th>3</th>\n",
       "      <td>DAVIDsTEA</td>\n",
       "      <td>Tea Room</td>\n",
       "      <td>43.776613</td>\n",
       "      <td>-79.258516</td>\n",
       "    </tr>\n",
       "    <tr>\n",
       "      <th>4</th>\n",
       "      <td>Tommy Hilfiger Company Store</td>\n",
       "      <td>Clothing Store</td>\n",
       "      <td>43.776015</td>\n",
       "      <td>-79.257369</td>\n",
       "    </tr>\n",
       "    <tr>\n",
       "      <th>5</th>\n",
       "      <td>Scarborough Town Centre</td>\n",
       "      <td>Shopping Mall</td>\n",
       "      <td>43.775237</td>\n",
       "      <td>-79.257363</td>\n",
       "    </tr>\n",
       "    <tr>\n",
       "      <th>6</th>\n",
       "      <td>Chipotle Mexican Grill</td>\n",
       "      <td>Mexican Restaurant</td>\n",
       "      <td>43.776410</td>\n",
       "      <td>-79.258069</td>\n",
       "    </tr>\n",
       "    <tr>\n",
       "      <th>7</th>\n",
       "      <td>Coliseum Scarborough Cinemas</td>\n",
       "      <td>Movie Theater</td>\n",
       "      <td>43.775995</td>\n",
       "      <td>-79.255649</td>\n",
       "    </tr>\n",
       "    <tr>\n",
       "      <th>8</th>\n",
       "      <td>Jimmy The Greek</td>\n",
       "      <td>Greek Restaurant</td>\n",
       "      <td>43.775112</td>\n",
       "      <td>-79.257119</td>\n",
       "    </tr>\n",
       "    <tr>\n",
       "      <th>9</th>\n",
       "      <td>Tim Hortons</td>\n",
       "      <td>Coffee Shop</td>\n",
       "      <td>43.769936</td>\n",
       "      <td>-79.260368</td>\n",
       "    </tr>\n",
       "  </tbody>\n",
       "</table>\n",
       "</div>"
      ],
      "text/plain": [
       "                           name          categories        lat        lng\n",
       "0                  Disney Store    Toy / Game Store  43.775537 -79.256833\n",
       "1                       SEPHORA      Cosmetics Shop  43.775017 -79.258109\n",
       "2     American Eagle Outfitters      Clothing Store  43.775908 -79.258352\n",
       "3                     DAVIDsTEA            Tea Room  43.776613 -79.258516\n",
       "4  Tommy Hilfiger Company Store      Clothing Store  43.776015 -79.257369\n",
       "5       Scarborough Town Centre       Shopping Mall  43.775237 -79.257363\n",
       "6        Chipotle Mexican Grill  Mexican Restaurant  43.776410 -79.258069\n",
       "7  Coliseum Scarborough Cinemas       Movie Theater  43.775995 -79.255649\n",
       "8               Jimmy The Greek    Greek Restaurant  43.775112 -79.257119\n",
       "9                   Tim Hortons         Coffee Shop  43.769936 -79.260368"
      ]
     },
     "execution_count": 71,
     "metadata": {},
     "output_type": "execute_result"
    }
   ],
   "source": [
    "results = requests.get(url).json()\n",
    "venues = results['response']['groups'][0]['items']\n",
    "    \n",
    "nearby_venues = json_normalize(venues) # flatten JSON\n",
    "\n",
    "# filter columns\n",
    "filtered_columns = ['venue.name', 'venue.categories', 'venue.location.lat', 'venue.location.lng']\n",
    "nearby_venues =nearby_venues.loc[:, filtered_columns]\n",
    "\n",
    "# filter the category for each row\n",
    "nearby_venues['venue.categories'] = nearby_venues.apply(get_category_type, axis=1)\n",
    "\n",
    "# clean columns\n",
    "nearby_venues.columns = [col.split(\".\")[-1] for col in nearby_venues.columns]\n",
    "\n",
    "nearby_venues.head(10)"
   ]
  },
  {
   "cell_type": "markdown",
   "metadata": {},
   "source": [
    "##### Get venues"
   ]
  },
  {
   "cell_type": "code",
   "execution_count": 73,
   "metadata": {},
   "outputs": [],
   "source": [
    "#define get near venues\n",
    "def getNearbyVenues(names, latitudes, longitudes, radius=500):\n",
    "    \n",
    "    venues_list=[]\n",
    "    for name, lat, lng in zip(names, latitudes, longitudes):\n",
    "        print(name)\n",
    "            \n",
    "        # create the API request URL\n",
    "        url = 'https://api.foursquare.com/v2/venues/explore?&client_id={}&client_secret={}&v={}&ll={},{}&radius={}&limit={}'.format(\n",
    "            CLIENT_ID, \n",
    "            CLIENT_SECRET, \n",
    "            VERSION, \n",
    "            lat, \n",
    "            lng, \n",
    "            radius, \n",
    "            LIMIT)\n",
    "            \n",
    "        # make the GET request\n",
    "        results = requests.get(url).json()[\"response\"]['groups'][0]['items']\n",
    "        \n",
    "        # return only relevant information for each nearby venue\n",
    "        venues_list.append([(\n",
    "            name, \n",
    "            lat, \n",
    "            lng, \n",
    "            v['venue']['name'], \n",
    "            v['venue']['location']['lat'], \n",
    "            v['venue']['location']['lng'],  \n",
    "            v['venue']['categories'][0]['name']) for v in results])\n",
    "\n",
    "    nearby_venues = pd.DataFrame([item for venue_list in venues_list for item in venue_list])\n",
    "    nearby_venues.columns = ['Neighborhood', \n",
    "                  'Neighborhood Latitude', \n",
    "                  'Neighborhood Longitude', \n",
    "                  'Venue', \n",
    "                  'Venue Latitude', \n",
    "                  'Venue Longitude', \n",
    "                  'Venue Category']\n",
    "    \n",
    "    return(nearby_venues)"
   ]
  },
  {
   "cell_type": "code",
   "execution_count": 74,
   "metadata": {},
   "outputs": [
    {
     "name": "stdout",
     "output_type": "stream",
     "text": [
      "Rouge, Malvern\n",
      "Highland Creek, Rouge Hill, Port Union\n",
      "Guildwood, Morningside, West Hill\n",
      "Woburn\n",
      "Cedarbrae\n",
      "Scarborough Village\n",
      "East Birchmount Park, Ionview, Kennedy Park\n",
      "Clairlea, Golden Mile, Oakridge\n",
      "Cliffcrest, Cliffside, Scarborough Village West\n",
      "Birch Cliff, Cliffside West\n",
      "Dorset Park, Scarborough Town Centre, Wexford Heights\n",
      "Maryvale, Wexford\n",
      "Agincourt\n",
      "Clarks Corners, Sullivan, Tam O'Shanter\n",
      "Agincourt North, L'Amoreaux East, Milliken, Steeles East\n",
      "L'Amoreaux West\n",
      "Upper Rouge\n"
     ]
    }
   ],
   "source": [
    "scarborough_venues = getNearbyVenues(names=scarborough_data['Neighborhood'],\n",
    "                                   latitudes=scarborough_data['Latitude'],\n",
    "                                   longitudes=scarborough_data['Longitude']\n",
    "                                  )"
   ]
  },
  {
   "cell_type": "code",
   "execution_count": 75,
   "metadata": {},
   "outputs": [
    {
     "name": "stdout",
     "output_type": "stream",
     "text": [
      "                                                    Neighborhood Latitude  \\\n",
      "Neighborhood                                                                \n",
      "Agincourt                                                               4   \n",
      "Agincourt North, L'Amoreaux East, Milliken, Ste...                      2   \n",
      "Birch Cliff, Cliffside West                                             4   \n",
      "Cedarbrae                                                               7   \n",
      "\n",
      "                                                    Neighborhood Longitude  \\\n",
      "Neighborhood                                                                 \n",
      "Agincourt                                                                4   \n",
      "Agincourt North, L'Amoreaux East, Milliken, Ste...                       2   \n",
      "Birch Cliff, Cliffside West                                              4   \n",
      "Cedarbrae                                                                7   \n",
      "\n",
      "                                                    Venue  Venue Latitude  \\\n",
      "Neighborhood                                                                \n",
      "Agincourt                                               4               4   \n",
      "Agincourt North, L'Amoreaux East, Milliken, Ste...      2               2   \n",
      "Birch Cliff, Cliffside West                             4               4   \n",
      "Cedarbrae                                               7               7   \n",
      "\n",
      "                                                    Venue Longitude  \\\n",
      "Neighborhood                                                          \n",
      "Agincourt                                                         4   \n",
      "Agincourt North, L'Amoreaux East, Milliken, Ste...                2   \n",
      "Birch Cliff, Cliffside West                                       4   \n",
      "Cedarbrae                                                         7   \n",
      "\n",
      "                                                    Venue Category  \n",
      "Neighborhood                                                        \n",
      "Agincourt                                                        4  \n",
      "Agincourt North, L'Amoreaux East, Milliken, Ste...               2  \n",
      "Birch Cliff, Cliffside West                                      4  \n",
      "Cedarbrae                                                        7  \n"
     ]
    }
   ],
   "source": [
    "#show venues head\n",
    "scarborough_venues.head(3)\n",
    "print(scarborough_venues.groupby('Neighborhood').count()[:4])\n"
   ]
  },
  {
   "cell_type": "code",
   "execution_count": 76,
   "metadata": {},
   "outputs": [],
   "source": [
    "# one hot encoding\n",
    "scarb_onehot = pd.get_dummies(scarborough_venues[['Venue Category']], prefix=\"\", prefix_sep=\"\")\n",
    "\n",
    "# add neighborhood column back to dataframe\n",
    "scarb_onehot['Neighborhood'] = scarborough_venues['Neighborhood'] \n",
    "\n",
    "# move neighborhood column to the first column\n",
    "fixed_columns = [scarb_onehot.columns[-1]] + list(scarb_onehot.columns[:-1])\n",
    "scarb_onehot = scarb_onehot[fixed_columns]\n",
    "\n",
    "scarb_grouped = scarb_onehot.groupby('Neighborhood').mean().reset_index()"
   ]
  },
  {
   "cell_type": "markdown",
   "metadata": {},
   "source": [
    "#### Getting top 10 venues per neighborhood"
   ]
  },
  {
   "cell_type": "code",
   "execution_count": 79,
   "metadata": {},
   "outputs": [],
   "source": [
    "def return_most_common_venues(row, num_top_venues):\n",
    "    row_categories = row.iloc[1:]\n",
    "    row_categories_sorted = row_categories.sort_values(ascending=False)\n",
    "    \n",
    "    return row_categories_sorted.index.values[0:num_top_venues]"
   ]
  },
  {
   "cell_type": "code",
   "execution_count": 80,
   "metadata": {},
   "outputs": [],
   "source": [
    "num_top_venues = 10\n",
    "\n",
    "indicators = ['st', 'nd', 'rd']\n",
    "\n",
    "# create columns according to number of top venues\n",
    "columns = ['Neighborhood']\n",
    "for ind in np.arange(num_top_venues):\n",
    "    try:\n",
    "        columns.append('{}{} Most Common Venue'.format(ind+1, indicators[ind]))\n",
    "    except:\n",
    "        columns.append('{}th Most Common Venue'.format(ind+1))\n",
    "\n",
    "# create a new dataframe\n",
    "neighborhoods_venues_sorted = pd.DataFrame(columns=columns)\n",
    "neighborhoods_venues_sorted['Neighborhood'] = scarb_grouped['Neighborhood']\n",
    "\n",
    "for ind in np.arange(scarb_grouped.shape[0]):\n",
    "    neighborhoods_venues_sorted.iloc[ind, 1:] = return_most_common_venues(scarb_grouped.iloc[ind, :], num_top_venues)"
   ]
  },
  {
   "cell_type": "markdown",
   "metadata": {},
   "source": [
    "### Run k-means to Cluster into 5 clusters"
   ]
  },
  {
   "cell_type": "code",
   "execution_count": 81,
   "metadata": {},
   "outputs": [
    {
     "data": {
      "text/plain": [
       "array([0, 2, 0, 0, 0, 0, 3, 0, 0, 0], dtype=int32)"
      ]
     },
     "execution_count": 81,
     "metadata": {},
     "output_type": "execute_result"
    }
   ],
   "source": [
    "scarb_data = scarborough_data.drop(16)\n",
    "# set number of clusters\n",
    "kclusters = 5\n",
    "\n",
    "scarb_grouped_clustering = scarb_grouped.drop('Neighborhood', 1)\n",
    "\n",
    "# run k-means clustering\n",
    "kmeans = KMeans(n_clusters=kclusters, random_state=0).fit(scarb_grouped_clustering)\n",
    "\n",
    "# check cluster labels generated for each row in the dataframe\n",
    "kmeans.labels_[0:10]"
   ]
  },
  {
   "cell_type": "code",
   "execution_count": 82,
   "metadata": {},
   "outputs": [],
   "source": [
    "scarb_merged = scarb_data\n",
    "\n",
    "# add clustering labels\n",
    "scarb_merged['Cluster Labels'] = kmeans.labels_\n",
    "\n",
    "# merge toronto_grouped with toronto_data to add latitude/longitude for each neighborhood\n",
    "scarb_merged = scarb_merged.join(neighborhoods_venues_sorted.set_index('Neighborhood'), on='Neighborhood')"
   ]
  },
  {
   "cell_type": "code",
   "execution_count": 83,
   "metadata": {},
   "outputs": [
    {
     "data": {
      "text/html": [
       "<div style=\"width:100%;\"><div style=\"position:relative;width:100%;height:0;padding-bottom:60%;\"><iframe src=\"data:text/html;charset=utf-8;base64,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\" style=\"position:absolute;width:100%;height:100%;left:0;top:0;border:none !important;\" allowfullscreen webkitallowfullscreen mozallowfullscreen></iframe></div></div>"
      ],
      "text/plain": [
       "<folium.folium.Map at 0x7f3587763ba8>"
      ]
     },
     "execution_count": 83,
     "metadata": {},
     "output_type": "execute_result"
    }
   ],
   "source": [
    "map_clusters = folium.Map(location=[latitude, longitude], zoom_start=11)\n",
    "\n",
    "# set color scheme for the clusters\n",
    "x = np.arange(kclusters)\n",
    "ys = [i+x+(i*x)**2 for i in range(kclusters)]\n",
    "colors_array = cm.rainbow(np.linspace(0, 1, len(ys)))\n",
    "rainbow = [colors.rgb2hex(i) for i in colors_array]\n",
    "\n",
    "# add markers to the map\n",
    "markers_colors = []\n",
    "for lat, lon, poi, cluster in zip(scarb_merged['Latitude'], scarb_merged['Longitude'], scarb_merged['Neighborhood'], scarb_merged['Cluster Labels']):\n",
    "    label = folium.Popup(str(poi) + ' Cluster ' + str(cluster), parse_html=True)\n",
    "    folium.CircleMarker(\n",
    "        [lat, lon],\n",
    "        radius=5,\n",
    "        popup=label,\n",
    "        color=rainbow[cluster-1],\n",
    "        fill=True,\n",
    "        fill_color=rainbow[cluster-1],\n",
    "        fill_opacity=0.7).add_to(map_clusters)\n",
    "       \n",
    "map_clusters"
   ]
  },
  {
   "cell_type": "code",
   "execution_count": null,
   "metadata": {},
   "outputs": [],
   "source": []
  }
 ],
 "metadata": {
  "kernelspec": {
   "display_name": "Python 3",
   "language": "python",
   "name": "python3"
  },
  "language_info": {
   "codemirror_mode": {
    "name": "ipython",
    "version": 3
   },
   "file_extension": ".py",
   "mimetype": "text/x-python",
   "name": "python",
   "nbconvert_exporter": "python",
   "pygments_lexer": "ipython3",
   "version": "3.6.8"
  }
 },
 "nbformat": 4,
 "nbformat_minor": 2
}
