{
 "cells": [
  {
   "cell_type": "markdown",
   "metadata": {},
   "source": [
    "# Capstone Project\n",
    "The Battle of Neighborhoods (Week 1)"
   ]
  },
  {
   "cell_type": "markdown",
   "metadata": {},
   "source": [
    "#### Created by Tien Hoang\n",
    "#### Powered by Google and Foursquare\n",
    "<br>"
   ]
  },
  {
   "cell_type": "markdown",
   "metadata": {},
   "source": [
    "This project is about findding the good location to open the coffee or milk tea shop in the middle of the tourist city, Budapest. This project can be a good base to be upgrade latter, for example, finding locations to build a coffee chain."
   ]
  },
  {
   "cell_type": "markdown",
   "metadata": {},
   "source": [
    "## 1. Introduction: Business Problem"
   ]
  },
  {
   "cell_type": "markdown",
   "metadata": {},
   "source": [
    "I am a student who currently study in Hungary. And after studying, I want to start-up my own business. As a milk tea lover, I do love to run my own milk tea shop located in **Budapest**. And with this project, I will try to find the optimal location for the **coffee shop** in this tourist city.\n",
    "\n",
    "The target is to find a best location which **attract a lot of tourist** and **not already crowded with coffee shops**. We also prefer to locate the shop near the city center as possible in order to serve the Asian tourist, for example Chinese, Vietnamese because of this is their favorite drink. Then latter on, I will try to broaden this milk tea chain around Budapest.\n",
    "\n",
    "Thanks for the helps of data science, I will find the good place for our milk tea shop."
   ]
  },
  {
   "cell_type": "markdown",
   "metadata": {},
   "source": [
    "## 2. Data"
   ]
  },
  {
   "cell_type": "markdown",
   "metadata": {},
   "source": [
    "To find out the best location in Budapest, I might need to access to some data. My target is too make this project can be reuse later, so I will use easy access data like **Google search** and **Foursquare location search**\n",
    "\n",
    "\n",
    "Based on the problem, the direct factors can be:\n",
    "* number of existing coffee shop in the neighborhood (since there are just a few milk tea store in Budapest, the direct competitors in this case are coffee shops)\n",
    "* distance of neighborhood from city center and attractive tourist places.\n",
    "\n",
    "The data should be use are:\n",
    "* **Google** search about Budapest tourist places: 'https://www.google.com/destination/map/topsights?q=budapest+tourist+places&site=search&output=search&dest_mid=/m/095w_&sa=X&ved=2ahUKEwisoMDu9LHhAhUrxYUKHYXeAI8Q6tEBKAQwAHoECAsQBw'\n",
    "* The information of nearby coffee shops from **Foursquare API**\n",
    "* In order to attract the location coordinate, **Google Maps API geocoding** will be used in this project \n"
   ]
  }
 ],
 "metadata": {
  "kernelspec": {
   "display_name": "Python 3",
   "language": "python",
   "name": "python3"
  },
  "language_info": {
   "codemirror_mode": {
    "name": "ipython",
    "version": 3
   },
   "file_extension": ".py",
   "mimetype": "text/x-python",
   "name": "python",
   "nbconvert_exporter": "python",
   "pygments_lexer": "ipython3",
   "version": "3.6.8"
  }
 },
 "nbformat": 4,
 "nbformat_minor": 2
}
